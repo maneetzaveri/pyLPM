{
 "cells": [
  {
   "cell_type": "markdown",
   "metadata": {},
   "source": [
    "# Jupyter notebook"
   ]
  },
  {
   "cell_type": "markdown",
   "metadata": {},
   "source": [
    "![logo](figs/jupyter.png)\n",
    "\n",
    "The Jupyter notebook is a very popular tool which provides an environent to execute python code as well as view the output of the code and any kind of visulization plot etc. in a single document.\n",
    "Jupyter is provided with Anaconda Python distribution.\n",
    "\n",
    "The name Jupyter is an acronym which stands for the three languages it was designed for: JUlia , PYThon, and R.\n",
    "\n",
    "Once jupyter is lauched (can be found from in the start menu) it opens in your browser with url http://localhost:8888/tree\n",
    "\n",
    "![Jupyter home dashboard](figs/jupyter_home.png)\n",
    "\n",
    "This is the main dashboard view of jupyter Notebook. You can navigate through your computer's folders from here.\n",
    "\n",
    "To launch a new notebook, from the selected folder, click the new button in the upper right hand corner and select Python 3.\n",
    "\n",
    "![Jupyter new](figs/jupyter_new.png)\n",
    "\n",
    "\n",
    "By deafult each notebook is named \"Untitled\", the notebook name can be renamed by clicking on \"Untitled\" and entering a more descriptive title. Jupyter notebooks are saved as `` .ipynb``  files, but can be converted to html, pdf etc.\n",
    "\n",
    "![cell](figs/cell.png)\n",
    "\n",
    "The cell is the place where you can write your executable code or text using [markdown formatting](https://jupyter-notebook.readthedocs.io/en/stable/examples/Notebook/Working%20With%20Markdown%20Cells.html).\n",
    "\n",
    "In a code cell i typed ``print('Hello World!')`` and clicked ``Run`` button or **Shift-Enter**. "
   ]
  },
  {
   "cell_type": "code",
   "execution_count": 1,
   "metadata": {},
   "outputs": [
    {
     "name": "stdout",
     "output_type": "stream",
     "text": [
      "Hello World!\n"
     ]
    }
   ],
   "source": [
    "print('Hello World!')"
   ]
  },
  {
   "cell_type": "markdown",
   "metadata": {},
   "source": [
    "When a cell is run, its output will be displayed below and the label to its left will have changed from ``In [ ]`` to ``In [1]``. The output of a code cell also forms part of the document, which is why it is visible in this tutorial.\n",
    "\n",
    "There are two modes of operation in jupyter, Command & Edit, ``Esc`` and ``Enter`` can be used to change operation mode. \n",
    "\n",
    "**Command mode:**\n",
    "\n",
    "The blue color sign denotes that you are in command mode. \n",
    "\n",
    "![command](figs/command.png)\n",
    "\n",
    "In this mode it is possible to:\n",
    "\n",
    "1. Insert a cell above or below - **A** for Above , **B** for Below\n",
    "2. Convert a cell into Code cell or Markdown cell - **M** for Markdown cell and **Y** for Code cell\n",
    "3. Use **Up** and **Down** keys to scroll through cells\n",
    "4. Two times D (**D+D**) will delete the active cell.\n",
    "5. Undo delete action by **Z**\n",
    "\n",
    "**Edit mode:**\n",
    "\n",
    "The green color sign denotes edit mode. \n",
    "\n",
    "![edit](figs/edit.png)\n",
    "\n",
    "In this mode code can be executed. Additionally, the following operations are possible:\n",
    "\n",
    "1. **Ctrl-M**: enter command mode\n",
    "2. **Tab**: code completion or indent\n",
    "3. **Shift-Tab**: tooltip for objects and functions\n",
    "4. **Esc**: enter command mode\n",
    "5. **Shift-Enter**: run cell, select below\n",
    "6. **Ctrl-Enter**: run selected cells\n",
    "7. **Alt-Enter**: run cell and insert below\n",
    "\n",
    "All these actions can be accessed the menu as well as via shortcuts described above.\n",
    "\n",
    "Cells can be Code cells or Markdown cells. Markdown cells can be used to put heading or notes in the notebook. This feature allows for organized and logical explanations within the code. Also, equations in LaTeX format and figures are supported.\n",
    "\n",
    "![markdown](figs/markdown.png)\n",
    "\n",
    "This is where you set a cell as markdown, or using the shortcut **M** when in command mode.\n",
    "\n",
    "For additional information on Jupyter, see the [documentation](https://jupyter-notebook.readthedocs.io/en/stable/.)"
   ]
  }
 ],
 "metadata": {
  "kernelspec": {
   "display_name": "Python 3",
   "language": "python",
   "name": "python3"
  },
  "language_info": {
   "codemirror_mode": {
    "name": "ipython",
    "version": 3
   },
   "file_extension": ".py",
   "mimetype": "text/x-python",
   "name": "python",
   "nbconvert_exporter": "python",
   "pygments_lexer": "ipython3",
   "version": "3.7.3"
  }
 },
 "nbformat": 4,
 "nbformat_minor": 2
}
